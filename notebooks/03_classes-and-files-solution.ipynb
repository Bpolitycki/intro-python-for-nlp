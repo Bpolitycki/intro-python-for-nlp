{
 "cells": [
  {
   "attachments": {},
   "cell_type": "markdown",
   "metadata": {},
   "source": [
    "# Objekte / Klassen und Arbeit mit Dateien in Python (Musterlösungen)"
   ]
  },
  {
   "attachments": {},
   "cell_type": "markdown",
   "metadata": {},
   "source": [
    "### Übung Klassen\n",
    "\n",
    "Wenn im Kontext der digitalen Textanalyse textuelle Daten untersucht werden, dann beginnt die Arbeit an diesen Datensätzen zumeist mit der Aufbereitung dieser Texte. Typischerweise stehen hierbei Abläufe wie in der vorherigen Übungseinheit im Fokus: das Trennen des Textes entlang bestimmter Marker (Tokenisierung), Trennung zwischen Groß- und Kleinschreibung bzw. die Vereinheitlichung, einfache Analysen durch Zählen der Worte.\n",
    "\n",
    "Zur Vertiefung dieser Abläufe sowie zur praktischen Anwendung sei noch einmal ein Ausschnitt aus der Rede des Bundeskanzlers Olaf Scholz gegeben. Definieren Sie eine Klasse `Speech`, welche folgende Attribute beinhaltet: `text` – der ursprüngliche Redetext, `speaker` - Name des / der ursprünglichen Sprecher:in, `tokenized_text` – ein in Tokens zerlegter Text, wobei jedes Token kleingeschrieben sein sollte und Satzzeichen wie Punkt, Komma und Doppelpunkt vorab ersetzt wurden. Die Klasse soll dazu neben `__init__()` folgende Methoden beinhalten: `clean_text()` – eine Methode, die Punkt, Komma und Doppelpunkt aus dem Text entfernt, `tokenize` – eine einfache Methode, die den Text entlang der Leerzeichen auftrennt.\n",
    "\n",
    "Weitere Informationen zur Vertiefung / zum Nachschlagen:\n",
    "\n",
    "- [Classes](http://python-textbook.pythonhumanities.com/01_intro/01_04-03_classes.html) aus Introduction to Python for Humanists\n",
    "- [Strings ersetzen](https://digital-history-berlin.github.io/Python-fuer-Historiker-innen/ch01-atomare-datentypen/03-datentyp-strings.html#strings-ersetzen) aus Python für Historiker:innen\n",
    "\n",
    "Vervollständigen Sie das Skript in der nächsten Zelle und führen Sie die übernächste Zelle zur Überprüfung aus."
   ]
  },
  {
   "cell_type": "code",
   "execution_count": 1,
   "metadata": {},
   "outputs": [],
   "source": [
    "speech_two = \"Wir erleben eine Zeitenwende. Und das bedeutet: Die Welt danach ist nicht mehr dieselbe wie die Welt davor. Im Kern geht es um die Frage, ob Macht das Recht brechen darf, ob wir es Putin gestatten, die Uhren zurückzudrehen in die Zeit der Großmächte des neunzehnten Jahrhunderts, oder ob wir die Kraft aufbringen, Kriegstreibern wie Putin Grenzen zu setzen.\"\n",
    "\n",
    "class Speech:\n",
    "\n",
    "    def __init__(self, text, speaker):\n",
    "        # die Argumente, die beim Initialisieren des Objektes übergeben werden, werden hier zunächst Klassenattributen zugeordnet (und damit in der Klasse verfügbar gemacht)\n",
    "        self.text = text\n",
    "        self.speaker = speaker\n",
    "        # dem Attribut self.tokenized_text wird der Rückgabewert der Methode tokenize() zugewiesen, dieser selbst bekommt den Rückgabewert der Methode clean_text() zugewiesen\n",
    "        self.tokenized_text = self.tokenize(self.clean_text())\n",
    "\n",
    "    def clean_text(self):\n",
    "        # der in self.text gespeicherte Text wird bereinigt und das bereinigte Ergebnis wird zurückgegeben\n",
    "        cleaned_text = self.text.replace('.', \"\").replace(\",\", \"\").replace(\":\", \"\")\n",
    "        return cleaned_text\n",
    "    \n",
    "    def tokenize(self, cleaned_text):\n",
    "        # der Text wird zunächst durchgehend in Kleinbuchstaben umgewandelt\n",
    "        lowercased_text = cleaned_text.lower()\n",
    "        # und anschließend entlang der Leerzeichen in Tokens unterteilt\n",
    "        return lowercased_text.split(\" \")\n",
    "    \n",
    "\n",
    "speech_analyse = Speech(speech_two, \"Olaf Scholz\")\n",
    "    "
   ]
  },
  {
   "cell_type": "code",
   "execution_count": 2,
   "metadata": {},
   "outputs": [
    {
     "name": "stdout",
     "output_type": "stream",
     "text": [
      "Alles korrekt!\n"
     ]
    }
   ],
   "source": [
    "try:\n",
    "    assert isinstance(speech_analyse, Speech)\n",
    "except AssertionError:\n",
    "    print(\"Die Variable `speech_analyse` ist keine Instanz der Klasse `Speech`.\")\n",
    "try:\n",
    "    assert speech_analyse.text == speech_two\n",
    "except AssertionError:\n",
    "    print(\"Die Eigenschaft `text` der Klasse `Speech` enthält nicht den korrekten Text.\")\n",
    "try:\n",
    "    assert isinstance(speech_analyse.tokenized_text, list)\n",
    "    assert len(speech_analyse.tokenized_text) == 59\n",
    "    print(\"Alles korrekt!\")\n",
    "except AssertionError:\n",
    "    print(\"Die Eigenschaft `tokenized_text` der Klasse `Speech` enthält nicht die korrekten Werte.\")\n"
   ]
  },
  {
   "attachments": {},
   "cell_type": "markdown",
   "metadata": {},
   "source": [
    "## Arbeit mit Dateien\n",
    "\n",
    "Bislang haben wir nur mit Dateien gearbeitet, die zugleich Teil unserer Skripte waren. In der Praxis ist dies zumeist nicht der Fall – zudem möchten wir unsere Ergebnisse möglicherweise nicht nur über die `print()`-Funktion ausgeben, sondern dauerhaft in einer Datei speichern.\n",
    "\n",
    "Zur Arbeit mit Dateien bietet Python eine Reihe von Funktionalitäten an. Lesen Sie zunächst den Abschnitt [Dateien öffnen, lesen und bearbeiten](https://digital-history-berlin.github.io/Python-fuer-Historiker-innen/ch04-dateien-verarbeiten/02-dateien-i-o.html) aus Python für Historiker:innen und begeben Sie sich anschließend an die Übungsaufgabe."
   ]
  },
  {
   "cell_type": "markdown",
   "metadata": {},
   "source": [
    "### Übungsaufgabe Arbeit mit Dateien\n",
    "\n",
    "Speichern Sie den Inhalt der Variable `text` in einer Datei `text_one.txt`. Lesen Sie anschließend den Text wieder aus und vergleichen Sie den Inhalt der Datei mit dem Inhalt von `text` mithilfe des Vergleichsoperators `==`."
   ]
  },
  {
   "cell_type": "code",
   "execution_count": 5,
   "metadata": {},
   "outputs": [
    {
     "data": {
      "text/plain": [
       "True"
      ]
     },
     "execution_count": 5,
     "metadata": {},
     "output_type": "execute_result"
    }
   ],
   "source": [
    "text = \"Wir erleben eine Zeitenwende. Und das bedeutet: Die Welt danach ist nicht mehr dieselbe wie die Welt davor. Im Kern geht es um die Frage, ob Macht das Recht brechen darf, ob wir es Putin gestatten, die Uhren zurückzudrehen in die Zeit der Großmächte des neunzehnten Jahrhunderts, oder ob wir die Kraft aufbringen, Kriegstreibern wie Putin Grenzen zu setzen.\"\n",
    "\n",
    "# Schreiben des Textes in eine Datei – dabei wird der Funktion open() als zweites Argument der Modus 'w' übergeben, der für das Schreiben von Dateien steht\n",
    "with open('text_one.txt', 'w', encoding=\"utf-8\") as textfile:\n",
    "    textfile.write(text)\n",
    "\n",
    "# umgekehrt wie oben: Lesen des Textes aus einer Datei – dabei wird der Funktion open() als zweites Argument der Modus 'r' übergeben, der für das Lesen von Dateien steht    \n",
    "with open('text_one.txt', 'r', encoding=\"utf-8\") as textfile:\n",
    "    text_read = textfile.read()\n",
    "\n",
    "text_read == text"
   ]
  },
  {
   "cell_type": "code",
   "execution_count": 4,
   "metadata": {},
   "outputs": [
    {
     "name": "stdout",
     "output_type": "stream",
     "text": [
      "Alles korrekt!\n"
     ]
    }
   ],
   "source": [
    "assert isinstance(text_read, str)\n",
    "assert text_read == text\n",
    "print(\"Alles korrekt!\")"
   ]
  },
  {
   "cell_type": "code",
   "execution_count": null,
   "metadata": {},
   "outputs": [],
   "source": []
  }
 ],
 "metadata": {
  "kernelspec": {
   "display_name": "Python 3 (ipykernel)",
   "language": "python",
   "name": "python3"
  },
  "language_info": {
   "codemirror_mode": {
    "name": "ipython",
    "version": 3
   },
   "file_extension": ".py",
   "mimetype": "text/x-python",
   "name": "python",
   "nbconvert_exporter": "python",
   "pygments_lexer": "ipython3",
   "version": "3.9.13"
  }
 },
 "nbformat": 4,
 "nbformat_minor": 2
}
