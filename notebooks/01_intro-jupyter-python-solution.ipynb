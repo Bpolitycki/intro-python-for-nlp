{
 "cells": [
  {
   "attachments": {},
   "cell_type": "markdown",
   "id": "efc7fa01",
   "metadata": {},
   "source": [
    "# Jupyter Notebook und erste Schritte in Python (Musterlösungen)\n",
    "\n",
    "### Übung: Ein einfaches Hallo-Welt-Programm"
   ]
  },
  {
   "cell_type": "code",
   "execution_count": 1,
   "id": "45987b56",
   "metadata": {},
   "outputs": [
    {
     "name": "stdout",
     "output_type": "stream",
     "text": [
      "Hallo Welt!\n"
     ]
    }
   ],
   "source": [
    "# Schreiben Sie Ihr eigenes Hallo-Welt-Programm und führen Sie diese Zelle aus!\n",
    "print(\"Hallo Welt!\")"
   ]
  },
  {
   "cell_type": "markdown",
   "id": "4fab4b28",
   "metadata": {},
   "source": [
    "### Übung Datentypen:\n",
    "\n",
    "- Gegeben seien die beiden Variablen `a` und `b`, die jeweils Text enthalten. Erstellen Sie eine Variable c und weisen dieser als Wert eine Liste zu, die `a` und `b` enthält. Definieren Sie eine Variable `d`, die die Werte der Liste von `c` zu einem String verbindet."
   ]
  },
  {
   "cell_type": "code",
   "execution_count": 2,
   "id": "21eae734",
   "metadata": {},
   "outputs": [],
   "source": [
    "a = \"Olaf Scholz ist\"\n",
    "b = \"der Bundeskanzler.\"\n",
    "# Weisen Sie der Variable c als Wert eine Liste zu, die a und b enthält\n",
    "c = [a, b]\n",
    "# Weisen Sie der Variable d als Wert die Texte von a und b (enthalten in c), verbunden durch ein Leerzeichen zu\n",
    "d = \" \".join(c)"
   ]
  },
  {
   "cell_type": "code",
   "execution_count": 3,
   "id": "e7864e93",
   "metadata": {},
   "outputs": [],
   "source": [
    "# Führen Sie diese Zelle zur Überprüfung aus, nachdem Sie die vorherige Zelle vollständig gelöst haben.\n",
    "assert isinstance(c, list)\n",
    "assert c[1] == \"der Bundeskanzler.\"\n",
    "assert isinstance(d, str)\n",
    "assert d == \"Olaf Scholz ist der Bundeskanzler.\""
   ]
  },
  {
   "cell_type": "markdown",
   "id": "66d4eeeb",
   "metadata": {},
   "source": [
    "#### Übung Funktionen\n",
    "\n",
    "- Definieren Sie eine Funktion mit dem Namen `split_and_count`. Diese Funktion soll über einen Parameter, den Sie beliebig nennen können, Text entgegen nehmen, diesen anhand der Leerzeichen auftrennen und anschließend die Elemente zählen und diesen Wert zurückgeben. Ergänzen Sie dazu nachfolgende Zelle und führen Sie zur Überprüfung die übernächste Zelle aus."
   ]
  },
  {
   "cell_type": "code",
   "execution_count": 4,
   "id": "a9d0f344",
   "metadata": {},
   "outputs": [],
   "source": [
    "\"\"\"Definieren Sie die Funktion mit dem Namen split_and_count und denken Sie daran,\n",
    "dass diese einen Parameter haben muss, über welchen Sie Text entgegen nimmt\"\"\"\n",
    "def split_and_count(text_input):\n",
    "    # trennen des Textes anhand der Leerzeichen\n",
    "    text_splitted = text_input.split(\" \")\n",
    "    # nun müssen wir die Länge dieser Liste herausfinden\n",
    "    count_text = len(text_splitted)\n",
    "    # und vergessen Sie nicht am Ende des Ergebnis zurückzugeben!\n",
    "    return count_text"
   ]
  },
  {
   "cell_type": "code",
   "execution_count": 5,
   "id": "567297ef",
   "metadata": {},
   "outputs": [],
   "source": [
    "from types import FunctionType\n",
    "assert isinstance(split_and_count, FunctionType)\n",
    "count_result = split_and_count(\"Olaf Scholz ist der Bundeskanzler\") \n",
    "assert isinstance(count_result, int)\n",
    "assert count_result == 5"
   ]
  },
  {
   "cell_type": "code",
   "execution_count": null,
   "id": "ce725112",
   "metadata": {},
   "outputs": [],
   "source": []
  }
 ],
 "metadata": {
  "kernelspec": {
   "display_name": "Python 3 (ipykernel)",
   "language": "python",
   "name": "python3"
  },
  "language_info": {
   "codemirror_mode": {
    "name": "ipython",
    "version": 3
   },
   "file_extension": ".py",
   "mimetype": "text/x-python",
   "name": "python",
   "nbconvert_exporter": "python",
   "pygments_lexer": "ipython3",
   "version": "3.9.13"
  }
 },
 "nbformat": 4,
 "nbformat_minor": 5
}
