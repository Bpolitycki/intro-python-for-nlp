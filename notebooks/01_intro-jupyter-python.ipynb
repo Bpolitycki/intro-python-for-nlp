{
 "cells": [
  {
   "cell_type": "markdown",
   "id": "efc7fa01",
   "metadata": {},
   "source": [
    "# Jupyter Notebook und erste Schritte in Python\n",
    "\n",
    "## Einführung in Jupyter Notebook\n",
    "\n",
    "Ein Jupyter Notebook ist eine interaktive Entwicklungsumgebung, die es Ihnen ermöglicht, Python-Code in einer visuellen Umgebung auszuführen und Ergebnisse in Echtzeit anzuzeigen. Es besteht aus einer Folge von Zellen, die sowohl Code als auch Text enthalten können. Der Text kann als [Markdown](https://de.wikipedia.org/wiki/Markdown) formatiert werden – so kann eine Mischung aus Code und Erklärung erstellt werden.\n",
    "\n",
    "Eine kurze Einführung findet sich im nachfolgenden Video:"
   ]
  },
  {
   "cell_type": "code",
   "execution_count": 6,
   "id": "da5b0a07",
   "metadata": {},
   "outputs": [
    {
     "data": {
      "text/html": [
       "<div align=\"center\">\n",
       "    <iframe width=\"560\" height=\"315\"\n",
       "        src=\"https://www.youtube.com/embed/cthzk6B80ds\" \n",
       "        title=\"YouTube video player\" frameborder=\"0\"\n",
       "        allow=\"accelerometer; autoplay; clipboard-write; encrypted-media; gyroscope; picture-in-picture; web-share\" allowfullscreen>\n",
       "    </iframe>\n",
       "</div>\n"
      ],
      "text/plain": [
       "<IPython.core.display.HTML object>"
      ]
     },
     "metadata": {},
     "output_type": "display_data"
    }
   ],
   "source": [
    "%%HTML\n",
    "<div align=\"center\">\n",
    "    <iframe width=\"560\" height=\"315\"\n",
    "        src=\"https://www.youtube.com/embed/cthzk6B80ds\" \n",
    "        title=\"YouTube video player\" frameborder=\"0\"\n",
    "        allow=\"accelerometer; autoplay; clipboard-write; encrypted-media; gyroscope; picture-in-picture; web-share\" allowfullscreen>\n",
    "    </iframe>\n",
    "</div>"
   ]
  },
  {
   "cell_type": "markdown",
   "id": "dad74276",
   "metadata": {},
   "source": [
    "**Tipp**:\n",
    "Es gibt eine Reihe von vordefinierten Shortcuts, die die Arbeit mit Jupyter Notebook(s) deutlich erleichtert. Eine Übersicht öffnet sich entweder durch drücken von `H` oder durch Aufruf von `Help > Keyboard Shortcuts`. "
   ]
  },
  {
   "cell_type": "markdown",
   "id": "a7889cb7",
   "metadata": {},
   "source": [
    "## Was ist Python?\n",
    "\n",
    "Python ist eine besonders einsteigerfreundliche, schnell zu erlernende und dabei zugleich mächtige Programmiersprache, die sich seit ihrer Erfindung Anfang der 90er Jahre großer Beliebtheit erfreut. Sie kommt im universitären Umfeld genauso wie in der Industrie für ganz unterschiedliche Zwecke wie komplexe Datenanalysen, maschinelles Lernen oder auch zur Entwicklung von Webanwendungen zum Einsatz.\n",
    "\n",
    "Mehr Hintergründe zu Python finden sich im [einführenden Abschnitt von Python für Historiker:innen](https://digital-history-berlin.github.io/Python-fuer-Historiker-innen/ch00-preface/03-python-infos.html)\n",
    "\n",
    "Ziel dieses Notebooks ist es die Sprache Python in seinen Grundzügen vorzustellen. Dazu zählen:\n",
    "\n",
    "- ein erstes ‚Hallo Welt‘-Skript, welches die Bausteine und Funktionsprinzipien einer Programmiersprache auf einen Blick präsentiert\n",
    "- Datentypen in Python (Zahlen, Text, Wahrheitswerte, ...)\n",
    "- Variablen und Funktionen\n",
    "\n",
    "Das Prinzip dieser und der nachfolgenden Übungseinheiten ist dabei immer gleich. Zunächst wird ein Thema eingeführt, entweder als erläuternder Text oder als Referenz auf externes Material, und im Anschluss folgen dann einige einfache Übungsaufgaben, anhand derer Sie das Erlernte überprüfen können. Die Übungsaufgaben enthalten zum Teil Grundzüge der Lösung, wobei zentrale Bestandteile jedoch ausgelassen wurden. Diese sind durch Unterstriche (`____`) markiert und müssen dort eingesetzt werden – erst dann lässt sich die Zeile korrekt ausführen.\n"
   ]
  },
  {
   "cell_type": "markdown",
   "id": "f4a160a0",
   "metadata": {},
   "source": [
    "## Hallo Welt!\n",
    "\n",
    "Ein erstes Hallo-Welt-Programm in Python sieht folgendermaßen aus:\n",
    "\n",
    "```python\n",
    "# Unser erstes Python-Skript!\n",
    "print(\"Hallo Welt!\")\n",
    "```\n",
    "\n",
    "Diese einfache Python-Skript tut nicht mehr als auf dem Bildschirm die Nachricht `Hallo Welt!` auszugeben. Schauen wir uns das mal Zeile für Zeile an.\n",
    "\n",
    "- Zeile 1: Hier findet sich ein sog. Kommentar. Ein Kommentar ist nur für die menschlichen Betrachter:innen bestimmt und wird vom Computer nicht interpretiert. Einzeilige Kommentare beginnen in Python immer mit einem Doppelkreuz (`#`). Mehrzeilige Kommentare beginnen und enden mit drei Anführungszeichen (`\"\"\"Mehrzeiliger Kommentar...\"\"\"`).\n",
    "- Zeile 2: Diese Zeile enthält eine Anweisung (*statement*), welches vom Rechner interpretiert und ausgeführt wird. Python-Programme bestehen aus einer oder mehreren Anweisungen, die aufeinander folgen. Die Anweisung `print` ruft die gleichnamige Funktion auf, die Teil der in Python eingebauten Funktionen (sog. [*buillt-in functions*](https://docs.python.org/3/library/functions.html)) ist. Der Funktion wird ein sog. Argument übergeben, in diesem Falle das was auf dem Bildschirm ausgegeben werden soll. Der auszugebende Text muss in Python immer in Anführungszeichen (`\"`) gekapselt werden, diese symbolisieren dem Interpreter, dass es sich dabei um Text und nicht um eine Anweisung als Bestandteil des Skriptes handelt. Es könnte aber auch ebenso eine Zahl als Argument übergeben werden. \n"
   ]
  },
  {
   "cell_type": "code",
   "execution_count": null,
   "id": "45987b56",
   "metadata": {},
   "outputs": [],
   "source": [
    "# Schreiben Sie Ihr eigenes Hallo-Welt-Programm und führen Sie diese Zelle aus!\n",
    "print(____)"
   ]
  },
  {
   "cell_type": "markdown",
   "id": "199514a6",
   "metadata": {},
   "source": [
    "**Checkliste**:\n",
    "\n",
    "1. Lässt sich vorherige Zelle problemlos ausführen?\n",
    "2. Erscheint als Ausgabe die gewünschte Nachricht?"
   ]
  },
  {
   "cell_type": "markdown",
   "id": "0514669a",
   "metadata": {},
   "source": [
    "## Variablen\n",
    "\n",
    "Informieren Sie sich über Variablen und deren Verwendung bei einer der folgenden externen Quellen:\n",
    "\n",
    "1. [Variablen definieren und ausgeben](https://digital-history-berlin.github.io/Python-fuer-Historiker-innen/ch01-atomare-datentypen/02-hallo-welt.html#variablen-definieren-und-ausgeben) aus Python für Historiker:innen\n",
    "2. [Variables](https://applied-language-technology.mooc.fi/html/notebooks/part_i/02_getting_started_with_python.html#variables) aus Applied Language Technology"
   ]
  },
  {
   "cell_type": "markdown",
   "id": "0b3677d1",
   "metadata": {},
   "source": [
    "## Datentypen\n",
    "\n",
    "### Einführung\n",
    "\n",
    "Daten(typen) sind der Grundbaustein einer jeden Programmiersprache. Python unterscheidet zwischen einfachen und komplexen Datentypen:\n",
    "\n",
    "- zu den einfachen Datentypen gehören: Strings (sog. `str`), numerischen Datentypen – hierzu gehören Ganz- und Gleitkommazahlen (sog. `int` und `float`) sowie Wahrheitswerte (sog. `bool`)\n",
    "- zu den komplexen Datentypen sind hingegen Listen (sog. `list`) und Dictionaries (Schlüssel-Wert-Paare, sog. `dict`) zu zählen\n",
    "\n",
    "Informieren sich bei einer der folgenden externen Quellen über die Datentypen in Python (berücksichtigen dabei auch Operatoren sowie spezielle Funktionen für einzelne Datentypen).\n",
    "\n",
    "1. [Atomare Datentypen](https://digital-history-berlin.github.io/Python-fuer-Historiker-innen/ch01-atomare-datentypen/01-atomare-datentypen.html) und [komplexe Datenstrukturen](https://digital-history-berlin.github.io/Python-fuer-Historiker-innen/ch03-komplexe-datenstrukturen/01-komplexe-datenstrukturen.html) aus Python für Historiker:innen\n",
    "2. [Introduction to Data](http://python-textbook.pythonhumanities.com/01_intro/01_02-02_data.html#what-is-data) aus Introduction to Python for Humanists\n",
    "\n",
    "Versuchen Sie anschließend die Übungsaufgaben zu lösen.\n",
    " "
   ]
  },
  {
   "cell_type": "markdown",
   "id": "4fab4b28",
   "metadata": {},
   "source": [
    "### Übung Datentypen:\n",
    "\n",
    "- Gegeben seien die beiden Variablen `a` und `b`, die jeweils Text enthalten. Erstellen Sie eine Variable c und weisen dieser als Wert eine Liste zu, die `a` und `b` enthält. Definieren Sie eine Variable `d`, die die Werte der Liste von `c` zu einem String verbindet."
   ]
  },
  {
   "cell_type": "code",
   "execution_count": null,
   "id": "21eae734",
   "metadata": {},
   "outputs": [],
   "source": [
    "a = \"Olaf Scholz ist\"\n",
    "b = \"der Bundeskanzler.\"\n",
    "# Weisen Sie der Variable c als Wert eine Liste zu, die a und b enthält\n",
    "c = ____\n",
    "# Weisen Sie der Variable d als Wert die Texte von a und b (enthalten in c), verbunden durch ein Leerzeichen zu\n",
    "d = \" \".join(____)"
   ]
  },
  {
   "cell_type": "code",
   "execution_count": null,
   "id": "e7864e93",
   "metadata": {},
   "outputs": [],
   "source": [
    "# Führen Sie diese Zelle zur Überprüfung aus, nachdem Sie die vorherige Zelle vollständig gelöst haben.\n",
    "assert isinstance(c, list)\n",
    "assert c[1] == \"der Bundeskanzler.\"\n",
    "assert isinstance(d, str)\n",
    "assert d == \"Olaf Scholz ist der Bundeskanzler.\""
   ]
  },
  {
   "cell_type": "markdown",
   "id": "a3f32d2a",
   "metadata": {},
   "source": [
    "## Funktionen\n",
    "\n",
    "Funktionen in Python sind benannte Code-Blöcke, die eine bestimmte Aufgabe ausführen, wenn sie aufgerufen werden. Funktionen werden hauptsächlich dafür verwendet um Quellcode zu organisieren und die gekapselten Funktionalitäten an verschiedenen Stellen wiederverwenden zu können. Sie sind ein grundlegendes Konzept in Python und in vielen anderen Programmiersprachen. Um eine Funktion in Python zu definieren, verwendet man das Schlüsselwort `def`, gefolgt von dem Namen der Funktion und den sog. Parametern, die der Funktion, falls vorhanden, von außen übergeben werden können.\n",
    "\n",
    "Der sog. Funktionskörper (der Inhalt der Funktion) wird in Python – wie auch andere zusammengehörige Code-Blöcke – durch vier Leerzeichen oder einen Tab eingerückt. Eine simple Funktion, die zwei Zahlen addiert sieht folgendermaßen aus:\n",
    "\n",
    "```python\n",
    "def addiere_zahlen(x, y):\n",
    "    ergebnis = x + y\n",
    "    return ergebnis\n",
    "```\n",
    "\n",
    "Zu beachten ist dabei das Schlüsselwort `return` in der zweiten Zeile. Ohne dieses Statement würde die Funktion nichts bei einem Aufruf zurückliefern.\n",
    "\n",
    "Informieren sich bei einer der folgenden externen Quellen weiter über Funktionen in Python und versuchen Sie anschließend die Übungsaufgaben zu lösen:\n",
    "\n",
    "1. [Functions](http://python-textbook.pythonhumanities.com/01_intro/01_04-02_functions.html) aus Introduction to Python for Humanists\n",
    "2. [Defining Your Own Python Function](https://realpython.com/defining-your-own-python-function/) in RealPython"
   ]
  },
  {
   "cell_type": "markdown",
   "id": "66d4eeeb",
   "metadata": {},
   "source": [
    "#### Übung Funktionen\n",
    "\n",
    "- Definieren Sie eine Funktion mit dem Namen `split_and_count`. Diese Funktion soll über einen Parameter, den Sie beliebig nennen können, Text entgegen nehmen, diesen anhand der Leerzeichen auftrennen und anschließend die Elemente zählen und diesen Wert zurückgeben. Ergänzen Sie dazu nachfolgende Zelle und führen Sie zur Überprüfung die übernächste Zelle aus."
   ]
  },
  {
   "cell_type": "code",
   "execution_count": null,
   "id": "a9d0f344",
   "metadata": {},
   "outputs": [],
   "source": [
    "\"\"\"Definieren Sie die Funktion mit dem Namen split_and_count und denken Sie daran,\n",
    "dass diese einen Parameter haben muss, über welchen Sie Text entgegen nimmt\"\"\"\n",
    "def split_and_count(____):\n",
    "    # trennen des Textes anhand der Leerzeichen\n",
    "    text_splitted = ____.split(\" \")\n",
    "    # nun müssen wir die Länge dieser Liste herausfinden\n",
    "    count_text = ____(text_splitted)\n",
    "    # und vergessen Sie nicht am Ende des Ergebnis zurückzugeben!\n",
    "    return ____"
   ]
  },
  {
   "cell_type": "code",
   "execution_count": null,
   "id": "567297ef",
   "metadata": {},
   "outputs": [],
   "source": [
    "from types import FunctionType\n",
    "assert isinstance(split_and_count, FunctionType)\n",
    "count_result = split_and_count(\"Olaf Scholz ist der Bundeskanzler\") \n",
    "assert isinstance(count_result, int)\n",
    "assert count_result == 5"
   ]
  }
 ],
 "metadata": {
  "kernelspec": {
   "display_name": "Python 3 (ipykernel)",
   "language": "python",
   "name": "python3"
  },
  "language_info": {
   "codemirror_mode": {
    "name": "ipython",
    "version": 3
   },
   "file_extension": ".py",
   "mimetype": "text/x-python",
   "name": "python",
   "nbconvert_exporter": "python",
   "pygments_lexer": "ipython3",
   "version": "3.9.13"
  }
 },
 "nbformat": 4,
 "nbformat_minor": 5
}
