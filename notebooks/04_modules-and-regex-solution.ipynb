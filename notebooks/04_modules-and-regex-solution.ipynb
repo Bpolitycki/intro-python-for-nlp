{
 "cells": [
  {
   "attachments": {},
   "cell_type": "markdown",
   "metadata": {},
   "source": [
    "# Modularisierung und Textmanipulation mit regulären Ausdrücken (Musterlösung)"
   ]
  },
  {
   "cell_type": "markdown",
   "metadata": {},
   "source": [
    "### Übung reguläre Ausdrücke\n",
    "\n",
    "#### Erste Aufgabe\n",
    "\n",
    "Finden Sie im bekannten Textstück alle Worte, die mit einem Kleinbuchstaben beginnen und von einem `.`, `,` oder `:` gefolgt werden."
   ]
  },
  {
   "cell_type": "code",
   "execution_count": 2,
   "metadata": {},
   "outputs": [
    {
     "name": "stdout",
     "output_type": "stream",
     "text": [
      "['bedeutet', 'davor', 'darf', 'gestatten', 'aufbringen', 'setzen']\n"
     ]
    }
   ],
   "source": [
    "import re\n",
    "speech_snippet = \"Wir erleben eine Zeitenwende. Und das bedeutet: Die Welt danach ist nicht mehr dieselbe wie die Welt davor. Im Kern geht es um die Frage, ob Macht das Recht brechen darf, ob wir es Putin gestatten, die Uhren zurückzudrehen in die Zeit der Großmächte des neunzehnten Jahrhunderts, oder ob wir die Kraft aufbringen, Kriegstreibern wie Putin Grenzen zu setzen.\"\n",
    "\n",
    "\"\"\" Um alle Wörter zu finden, die mit einem Kleinbuchstaben beginnen und von Punkt, Komma oder Doppelpunkt gefolgt\n",
    "werden, benutzen wir die Methode `findall()` von `re` und geben als Argument einen regulären Ausdruck an.\n",
    "Der reguläre Ausdruck beginnt mit `\\s` – dies bedeutet hier, dass wir davon ausgehen, dass vor einem Wort\n",
    "stets ein Leerzeichen steht. Danach folgt ein eckiger Klammerausdruck, der alle Kleinbuchstaben von a bis z\n",
    "enthält. Das nachfolgende Pluszeichen gibt an, dass diese Kleinbuchstaben ein oder mehrmals hintereinander vorkommen können. \n",
    "Anschließend folgt ein letzter Klammerasdruck (Character Class), der die drei Satzzeichen enthält.\n",
    "\"\"\"\n",
    "matches_lowercased = re.findall(\"\\s([a-z]+)[\\.,:]\", speech_snippet)\n",
    "print(matches_lowercased)"
   ]
  },
  {
   "cell_type": "code",
   "execution_count": 3,
   "metadata": {},
   "outputs": [
    {
     "name": "stdout",
     "output_type": "stream",
     "text": [
      "Alles korrekt!\n"
     ]
    }
   ],
   "source": [
    "try:\n",
    "    assert isinstance(matches_lowercased, list)\n",
    "    assert len(matches_lowercased) > 0\n",
    "except AssertionError:\n",
    "    print(\"Die Variable matches_lowercased sollte eine Liste mit mehr als 0 Einträgen sein.\")\n",
    "try:\n",
    "    assert len(matches_lowercased) == 6\n",
    "    print(\"Alles korrekt!\")\n",
    "except AssertionError:\n",
    "        print(\"Die Variable matches_lowercased sollte eine Liste mit genau 6 Einträgen sein.\")"
   ]
  },
  {
   "cell_type": "markdown",
   "metadata": {},
   "source": [
    "#### Zweite Aufgabe\n",
    "\n",
    "Gegeben seien nun die mehrere Abschnitte Rede. Schreiben Sie nun einen regulären Ausdrück, welchen wir dafür verwenden können um alle Worte (Tokens) im Text identifiieren zu können. Zahlen, Weißraum und Satzzeichen sollen ignoriert werden. Achtung: Umlaute und Zeichen wie das scharfe S sind trickreich! \n",
    "\n",
    "Ergänzen Sie dazu den Code in der übernächsten Zelle und führen Sie zur Überprüfung die darauffolgende Zelle aus.\n"
   ]
  },
  {
   "cell_type": "code",
   "execution_count": 5,
   "metadata": {},
   "outputs": [],
   "source": [
    "speech_long_snippet = \"\"\"Sehr geehrte Frau Präsidentin! Verehrte Kolleginnen und Kollegen! Liebe Mitbürgerinnen und Mitbürger! Der 24. Februar 2022 markiert eine Zeitenwende in der Geschichte unseres Kontinents. Mit dem Überfall auf die Ukraine hat der russische Präsident Putin kaltblütig einen Angriffskrieg vom Zaun gebrochen – aus einem einzigen Grund: Die Freiheit der Ukrainerinnen und Ukrainer stellt sein eigenes Unterdrückungsregime infrage. Das ist menschenverachtend. Das ist völkerrechtswidrig. Das ist durch nichts und niemanden zu rechtfertigen.\n",
    "Die schrecklichen Bilder aus Kiew, Charkiw, Odessa und Mariupol zeigen die ganze Skrupellosigkeit Putins. Die himmelschreiende Ungerechtigkeit, der Schmerz der Ukrainerinnen und Ukrainer, sie gehen uns allen sehr nahe.\n",
    "Ich weiß genau, welche Fragen sich die Bürgerinnen und Bürger in diesen Tagen abends am Küchentisch stellen, welche Sorgen sie umtreiben angesichts der furchtbaren Nachrichten aus dem Krieg. Viele von uns haben noch die Erzählungen unserer Eltern oder Großeltern im Ohr vom Krieg, und für die Jüngeren ist es kaum fassbar: Krieg in Europa. Viele von ihnen verleihen ihrem Entsetzen Ausdruck – überall im Land, auch hier in Berlin.\n",
    "Wir erleben eine Zeitenwende. Und das bedeutet: Die Welt danach ist nicht mehr dieselbe wie die Welt davor. Im Kern geht es um die Frage, ob Macht das Recht brechen darf, ob wir es Putin gestatten, die Uhren zurückzudrehen in die Zeit der Großmächte des 19. Jahrhunderts, oder ob wir die Kraft aufbringen, Kriegstreibern wie Putin Grenzen zu setzen.\n",
    "Das setzt eigene Stärke voraus.\n",
    "a, wir wollen und wir werden unsere Freiheit, unsere Demokratie und unseren Wohlstand sichern. Ich bin Ihnen, Frau Präsidentin, sehr dankbar, dass ich die Vorstellungen der Bundesregierung dazu heute in dieser Sondersitzung mit Ihnen teilen kann. Auch den Vorsitzenden aller demokratischen Fraktionen dieses Hauses danke ich dafür, dass sie diese Sitzung unterstützt haben.\"\"\""
   ]
  },
  {
   "cell_type": "code",
   "execution_count": 8,
   "metadata": {},
   "outputs": [
    {
     "name": "stdout",
     "output_type": "stream",
     "text": [
      "281\n"
     ]
    }
   ],
   "source": [
    "# Falls noch nicht geschehen das `re`-Modul zunächst importieren \n",
    "import re\n",
    "\"\"\"Der Methode findall wird wieder ein regulärer Ausdruck übergeben. Dieser enthält lediglich alle von uns gesuchten Zeichen:\n",
    "- Großbuchstaben von A bis Z\n",
    "- Kleinbuchstaben von a bis z\n",
    "- Umlaute\n",
    "- ß\n",
    "\n",
    "Der reguläre Ausdruck endet mit einem Pluszeichen, das anzeigt, dass die Zeichen ein oder mehrmals hintereinander vorkommen können.\"\"\"\n",
    "tokens = re.findall(\"[A-Za-zÄäÜüÖöß]+\", speech_long_snippet)\n",
    "print(len(tokens))"
   ]
  },
  {
   "cell_type": "code",
   "execution_count": 9,
   "metadata": {},
   "outputs": [
    {
     "name": "stdout",
     "output_type": "stream",
     "text": [
      "Alles korrekt!\n"
     ]
    }
   ],
   "source": [
    "try:\n",
    "    assert isinstance(tokens, list)\n",
    "    assert len(tokens) > 0\n",
    "except AssertionError:\n",
    "    print(\"Die Variable tokens sollte eine Liste mit mehr als 0 Einträgen sein.\")\n",
    "try:\n",
    "    assert len(tokens) == 281\n",
    "    print(\"Alles korrekt!\")\n",
    "except AssertionError:\n",
    "        print(\"Die Variable tokens sollte eine Liste mit genau 281 Einträgen sein.\")"
   ]
  },
  {
   "cell_type": "code",
   "execution_count": null,
   "metadata": {},
   "outputs": [],
   "source": []
  }
 ],
 "metadata": {
  "kernelspec": {
   "display_name": "Python 3 (ipykernel)",
   "language": "python",
   "name": "python3"
  },
  "language_info": {
   "codemirror_mode": {
    "name": "ipython",
    "version": 3
   },
   "file_extension": ".py",
   "mimetype": "text/x-python",
   "name": "python",
   "nbconvert_exporter": "python",
   "pygments_lexer": "ipython3",
   "version": "3.9.13"
  }
 },
 "nbformat": 4,
 "nbformat_minor": 2
}
