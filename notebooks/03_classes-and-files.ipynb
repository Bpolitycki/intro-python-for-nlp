{
 "cells": [
  {
   "cell_type": "markdown",
   "metadata": {},
   "source": [
    "# Objekte / Klassen und Arbeit mit Dateien in Python\n",
    "\n",
    "## Ziel dieser Lern- und Übungseinheit\n",
    "\n",
    "Die Materialien in diesem Notebook bauen auf den vorherigen beiden Einheiten. Thema dieser Einheit sind die Grundlagen objektorientierter Programmierung bzw. Klassen, die es uns erlauben eigene Datentypen mit zugehörigen Funktionen (bzw. Methoden) zu erstellen. Zudem wird die Arbeit mit Dateien vorgestellt. Am Ende sollten Sie mit folgenden Themen vertraut sein:\n",
    "\n",
    "- Klassen und Objekte\n",
    "- Eigenschaften und Methoden von Klassen\n",
    "- Öffnen und Schreiben von Dateien"
   ]
  },
  {
   "cell_type": "markdown",
   "metadata": {},
   "source": [
    "## Klassen und Objekte\n",
    "\n",
    "Python gehört zur Familie der sog. [objektorientierten Programmiersprachen](https://de.wikipedia.org/wiki/Objektorientierte_Programmierung) – ein zentrales Konzept der objektorientierten sind Klassen und Objekte. Diese werden im Allgemeinen verwendet, um komplexe Datenstrukturen und Verhalten zu modellieren. Klassen sind Blaupausen oder Baupläne, die als Vorlage dienen, um Objekte zu erstellen – ein Objekt ist eine sog. Instanz einer Klasse, sprich die spezifische Umsetzung selbiger. Zwischen Klassen und Objekten besteht i. d. R. eine `1` zu `n`-Beziehung oder anders: Es gibt nur eine Klasse, aber potenziell mehrere Objekte dieser Klasse.\n",
    "\n",
    "Klassen werden in Python mit dem Schlüsselwort `class` definiert. Anschließend folgt der Name der Klasse. Die Konvention in Python ist, dass Klassennamen in CamelCase geschrieben werden, also mit dem ersten Buchstaben jeder Wortgruppe großgeschrieben. Eine Klasse kann (prinzipiell) auch von einer anderen Klasse erben, um ihre Eigenschaften und Methoden zu erweitern (dies sei hier aber nur der Vollständigkeit halber erwähnt).\n",
    "\n",
    "Die Initialisierung eines Objekts erfolgt mit der speziellen Methode `__init__()` innerhalb der Klasse. Diese Methode wird automatisch aufgerufen, wenn ein Objekt erstellt wird, und dient dazu, die Attribute des Objekts zu initialisieren. Ein einfaches Beispiel könnte folgendermaßen aussehen:\n",
    "\n",
    "```python\n",
    "\n",
    "class TextInfo:\n",
    "\n",
    "    def __init__(self, title, author, description):\n",
    "        \"\"\"Initialisierung der Klasse mit der magischen Funktion __init__().\n",
    "        Diese kann Parameter übergeben bekommen, wobei `self` für eine jede Methode\n",
    "        einer Klasse verpflichtend ist!\n",
    "\n",
    "        Die Werte der drei Parameter werden auf Eigenschaften der Klassen nach dem\n",
    "        Prinzip `self.title = title` gespeichert und stehen dann auch nach Ausführung\n",
    "        von `__init__()` zur Verfügung\"\"\"\n",
    "\n",
    "        self.title = title\n",
    "        self.author = author\n",
    "        self.description = description\n",
    "\n",
    "    def describe(self):\n",
    "        return f\"Der Text {self.title} wurde von {self.author} verfasst und die Kurzbeschreibung ist {len(self.description)} Zeichen lang.\"\n",
    "```\n",
    "\n",
    "Das Beispiel zeigt die Definition einer Klasse `TextInfo` – neben der Methode `__init__()` wird hier noch eine weitere Methode (`describe()`) definiert, die Attribute der Klasse ausliest und als String gebündelt zurückgibt. Das Code-Beispiel in der nächsten Zelle verdeutlicht die praktische Anwendung noch einmal. Gehen Sie das Beispiel durch und führen Sie die Zelle anschließend aus. \n"
   ]
  },
  {
   "cell_type": "code",
   "execution_count": null,
   "metadata": {},
   "outputs": [],
   "source": [
    "class TextInfo:\n",
    "\n",
    "    def __init__(self, title, author, description):\n",
    "        \"\"\"Initialisierung der Klasse mit der magischen Funktion __init__().\n",
    "        Diese kann Parameter übergeben bekommen, wobei `self` für eine jede Methode\n",
    "        einer Klasse verpflichtend ist!\n",
    "\n",
    "        Die Werte der drei Parameter werden auf Eigenschaften der Klassen nach dem\n",
    "        Prinzip `self.title = title` gespeichert und stehen dann auch nach Ausführung\n",
    "        von `__init__()` zur Verfügung\"\"\"\n",
    "\n",
    "        self.title = title\n",
    "        self.author = author\n",
    "        self.description = description\n",
    "\n",
    "    def describe(self):\n",
    "        return f\"Der Text {self.title} wurde von {self.author} verfasst und die Kurzbeschreibung ist {len(self.description)} Zeichen lang.\"\n",
    "    \n",
    "# Erstellen einer Instanz der Klasse TextInfo bzw. des Objekts text_a\n",
    "text_a = TextInfo(\"Der kleine Prinz\", \"Antoine de Saint-Exupéry\", \"Ein kleiner Junge lebt auf einem Asteroiden und besucht die Erde.\")\n",
    "# Erstellen einer Instanz der Klasse TextInfo bzw. des Objekts text_b\n",
    "text_b = TextInfo(\"Die drei ???\", \"Robert Arthur\", \"Die drei ??? sind drei Freunde, die sich auf die Suche nach mysteriösen Fällen machen.\")\n",
    "\n",
    "# Ausgabe der Eigenschaften der Instanzen\n",
    "# Ausgabe des Titels von text_a\n",
    "print(text_a.title)\n",
    "# Ausgabe des Titels von text_b\n",
    "print(text_b.title)\n",
    "# Ausgabe aller Eigenschaften mithilfe von `describe()`\n",
    "print(text_a.describe())"
   ]
  },
  {
   "cell_type": "markdown",
   "metadata": {},
   "source": [
    "### Übung Klassen\n",
    "\n",
    "Wenn im Kontext der digitalen Textanalyse textuelle Daten untersucht werden, dann beginnt die Arbeit an diesen Datensätzen zumeist dieser Texte. Typischerweise stehen hierbei Abläufe wie in der vorherigen Übungseinheit im Fokus: das Trennen des Textes entlang bestimmter Marker (Tokenisierung), Trennung zwischen Groß- und Kleinschreibung bzw. die Vereinheitlichung, einfache Analysen durch Zählen der Worte.\n",
    "\n",
    "Zur Vertiefung dieser Abläufe sowie zur praktischen Anwendung sei noch einmal ein Ausschnitt aus der Rede des Bundeskanzlers Olaf Scholz gegeben. Definieren Sie eine Klasse `Speech`, welche folgende Attribute beinhaltet: `text` – der ursprüngliche Redetext, `speaker` - Name des / der ursprünglichen Sprecher:in, `tokenized_text` – ein in Tokens zerlegter Text, wobei jedes Token klein geschrieben sein sollte und Satzzeichen wie Punkt, Komma und Doppelpunkt vorab ersetzt wurden. Die Klasse soll dazu neben `__init__()` folgende Methoden beinhalten: `clean_text()` – eine Methode, die Punkt, Komma und Doppelpunkt aus dem Text entfernt, `tokenize` – eine einfache Methode, die den Text entlang der Leerzeichen auftrennt.\n",
    "\n",
    "Weitere Informationen zur Vertiefung / zum Nachschlagen:\n",
    "\n",
    "- [Classes](http://python-textbook.pythonhumanities.com/01_intro/01_04-03_classes.html) aus Introduction to Python for Humanists\n",
    "- [Strings ersetzen](https://digital-history-berlin.github.io/Python-fuer-Historiker-innen/ch01-atomare-datentypen/03-datentyp-strings.html#strings-ersetzen) aus Python für Historiker:innen\n",
    "\n",
    "Vervollständigen Sie das Skript in der nächsten Zelle und führen Sie die übernächste Zelle zur Überprüfung aus."
   ]
  },
  {
   "cell_type": "code",
   "execution_count": null,
   "metadata": {},
   "outputs": [],
   "source": [
    "speech_two = \"Wir erleben eine Zeitenwende. Und das bedeutet: Die Welt danach ist nicht mehr dieselbe wie die Welt davor. Im Kern geht es um die Frage, ob Macht das Recht brechen darf, ob wir es Putin gestatten, die Uhren zurückzudrehen in die Zeit der Großmächte des neunzehnten Jahrhunderts, oder ob wir die Kraft aufbringen, Kriegstreibern wie Putin Grenzen zu setzen.\"\n",
    "\n",
    "class Speech:\n",
    "\n",
    "    def __init__(self, text, ____):\n",
    "        self.text = text\n",
    "        self.speaker = ____\n",
    "        self.tokenized_text = self.____(self.clean_text())\n",
    "\n",
    "    def clean_text(self):\n",
    "        cleaned_text = self.____.replace(____, \"\").replace(\",\", \"\").replace(\":\", \"\")\n",
    "        return cleaned_text\n",
    "    \n",
    "    def tokenize(self, cleaned_text):\n",
    "        lowercased_text = cleaned_text.____()\n",
    "        return lowercased_text.split(\" \")\n",
    "    \n",
    "\n",
    "speech_analyse = Speech(____, \"Olaf Scholz\")\n",
    "    "
   ]
  },
  {
   "cell_type": "code",
   "execution_count": null,
   "metadata": {},
   "outputs": [],
   "source": [
    "try:\n",
    "    assert isinstance(speech_analyse, Speech)\n",
    "except AssertionError:\n",
    "    print(\"Die Variable `speech_analyse` ist keine Instanz der Klasse `Speech`.\")\n",
    "try:\n",
    "    assert speech_analyse.text == speech_two\n",
    "except AssertionError:\n",
    "    print(\"Die Eigenschaft `text` der Klasse `Speech` enthält nicht den korrekten Text.\")\n",
    "try:\n",
    "    assert isinstance(speech_analyse.tokenized_text, list)\n",
    "    assert len(speech_analyse.tokenized_text) == 59\n",
    "    print(\"Alles korrekt!\")\n",
    "except AssertionError:\n",
    "    print(\"Die Eigenschaft `tokenized_text` der Klasse `Speech` enthält nicht die korrekten Werte.\")\n"
   ]
  },
  {
   "attachments": {},
   "cell_type": "markdown",
   "metadata": {},
   "source": [
    "## Arbeit mit Dateien\n",
    "\n",
    "Bislang haben wir nur Datein gearbeitet, die zugleich Teil unserer Skripte waren. In der Praxis ist dies zumeist nicht der Fall – zudem möchten wir unsere Ergebnisse möglicherweise nicht nur über die `print()`-Funktion ausgeben, sondern dauerhaft in einer Datei speichern.\n",
    "\n",
    "Zur Arbeit mit Dateien bietet Python eine Reihe von Funktionalitäten an. Lesen Sie zunächst den Abschnitt [Dateien öffnen, lesen und bearbeiten](https://digital-history-berlin.github.io/Python-fuer-Historiker-innen/ch04-dateien-verarbeiten/02-dateien-i-o.html) aus Python für Historiker:innen und begeben Sie sich anschließend an die Übungsaufgabe."
   ]
  },
  {
   "cell_type": "markdown",
   "metadata": {},
   "source": [
    "### Übungsaufgabe Arbeit mit Dateien\n",
    "\n",
    "Speichern Sie den Inhalt der Variable `text` in einer Datei `text_one.txt`. Lesen Sie anschließend den Text wieder aus und vergleichen Sie den Inhalt der Datei mit dem Inhalt von `text` mithilfe des Vergleichsoperators `==`."
   ]
  },
  {
   "cell_type": "code",
   "execution_count": null,
   "metadata": {},
   "outputs": [],
   "source": [
    "text = \"Wir erleben eine Zeitenwende. Und das bedeutet: Die Welt danach ist nicht mehr dieselbe wie die Welt davor. Im Kern geht es um die Frage, ob Macht das Recht brechen darf, ob wir es Putin gestatten, die Uhren zurückzudrehen in die Zeit der Großmächte des neunzehnten Jahrhunderts, oder ob wir die Kraft aufbringen, Kriegstreibern wie Putin Grenzen zu setzen.\"\n",
    "\n",
    "with open('text_one.txt', '____', encoding=\"utf-8\") as textfile:\n",
    "    ____.write(text)\n",
    "    \n",
    "with open(____, 'r', encoding=\"utf-8\") as textfile:\n",
    "    text_read = textfile.____()\n",
    "\n",
    "____ == text"
   ]
  },
  {
   "cell_type": "code",
   "execution_count": null,
   "metadata": {},
   "outputs": [],
   "source": [
    "assert isinstance(text_read, str)\n",
    "assert text_read == text\n",
    "print(\"Alles korrekt!\")"
   ]
  },
  {
   "cell_type": "code",
   "execution_count": null,
   "metadata": {},
   "outputs": [],
   "source": []
  }
 ],
 "metadata": {
  "kernelspec": {
   "display_name": "Python 3 (ipykernel)",
   "language": "python",
   "name": "python3"
  },
  "language_info": {
   "codemirror_mode": {
    "name": "ipython",
    "version": 3
   },
   "file_extension": ".py",
   "mimetype": "text/x-python",
   "name": "python",
   "nbconvert_exporter": "python",
   "pygments_lexer": "ipython3",
   "version": "3.9.13"
  }
 },
 "nbformat": 4,
 "nbformat_minor": 2
}
