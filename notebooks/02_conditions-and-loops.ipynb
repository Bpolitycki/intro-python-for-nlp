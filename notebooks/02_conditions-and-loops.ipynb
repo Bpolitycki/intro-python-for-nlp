{
 "cells": [
  {
   "cell_type": "markdown",
   "id": "4030d873",
   "metadata": {},
   "source": [
    "# Kontrollstrukturen und Schleifen\n",
    "\n",
    "## Ziel dieser Lern- und Übungseinheit\n",
    "\n",
    "Die Materialien in diesem Notebook schließen mehr oder weniger nahtlos an die vorherige Einführung an. Falls Sie bisher noch nicht mit den Grundzügen von Python vertraut sind, bearbeiten Sie bitte zunächst die Übungsaufgaben im [ersten Notebook](01_intro-jupyter-python.ipynb).\n",
    "\n",
    "Thema dieser Einheit sind sog. Kontrollstrukturen, die es erlauben Fallunterscheidungen in den Quellcode zu integrieren sowie Schleifen zur wiederholten Ver- und Bearbeitung von Daten. Am Ende sollten Sie mit folgenden Themen vertraut sein:\n",
    "\n",
    "- `if-else` Bedingungen\n",
    "- `for` und `while` Schleifen\n",
    "-  List comprehensions"
   ]
  },
  {
   "cell_type": "markdown",
   "id": "ee638c80",
   "metadata": {},
   "source": [
    "## Kontrollstrukturen\n",
    "\n",
    "Fallunterscheidungen sind ebenso wie Schleifen (s.u.) ein wesentliches Element einer jeden Programmiersprachen – sie erlauben es den Fluss des Programmablaufs zu strukturieren und Anweisungen nur unter bestimmten Umständen auszuführen. In Python für typische Fallunterscheidungen drei Schlüsselwörter reserviert: `if`, `else` und `elif`\n",
    "\n",
    "Schauen Sie sich die nachfolgende Zelle an und überlegen Sie vor dem Ausführen, was auf dem Bildschirm ausgegeben werden könnte."
   ]
  },
  {
   "cell_type": "code",
   "execution_count": null,
   "id": "a70a0109",
   "metadata": {},
   "outputs": [],
   "source": [
    "text = \"Der Antrag auf Erweiterung der Tagesordnung ist zulässig.\"\n",
    "\n",
    "if \"zulässig\" in text:\n",
    "    print(\"Antrag wurde angenommen.\")\n",
    "else:\n",
    "    print(\"Antrag wurde abgelehnt!\")"
   ]
  },
  {
   "cell_type": "markdown",
   "id": "95928d8f",
   "metadata": {},
   "source": [
    "Informieren sich bei einer der folgenden externen Quellen weiter über Funktionen in Python und versuchen Sie anschließend die Übungsaufgaben zu lösen:\n",
    "\n",
    "- [Conditionals](http://python-textbook.pythonhumanities.com/01_intro/01_03-03_conditionals.html#) aus Introduction to Python for Humanists\n",
    "- [Bedingte Abfragen mit if, elif und else](https://digital-history-berlin.github.io/Python-fuer-Historiker-innen/ch02-programmablaeufe-strukturieren/02-bedingte-anweisungen.html#bedingte-abfragen-mit-if-elif-und-else) aus Python für Historiker:innen"
   ]
  },
  {
   "cell_type": "markdown",
   "id": "63a503e2",
   "metadata": {},
   "source": [
    "### Übung Kontrollstrukturen\n",
    "\n",
    "Gegeben sei der erste Abschnitt aus der berühmten Zeitwenderede des Bundeskanzlers, entnommen aus dem Protokoll des deutschen Bundestags (Sitzung vom 27. Februar 2022). Ersetzen Sie in der Rede zunächst alle Zeilenumbrüche (`\\n`) durch ein Leerzeichen und trennen den Text dann entlang der Leerzeichen. Speichern Sie die Menge der Tokens in einem `set` und erstellen Sie eine einfache Fallunterscheidung: wenn die Länge der Tokens größer als `30`\n",
    "ist, dann wird eine Variable `count` mit dem Wert der Länge von `words` initialisiert, ansonsten mit dem Wert der Länge von `tokens`. \n",
    "\n",
    "Setzen Sie zunächst die benötigten Bestandteile in die nachfolgende Zelle ein und führen Sie dann zur Überprüfung ihrer Lösung die übernächste Zelle aus."
   ]
  },
  {
   "cell_type": "code",
   "execution_count": null,
   "id": "f7ee2c1b",
   "metadata": {},
   "outputs": [],
   "source": [
    "speech = \"\"\"Sehr geehrte Frau Präsidentin! Verehrte Kolleginnen und Kollegen! Liebe Mitbürgerinnen und Mitbürger!\n",
    "Der 24. Februar 2022 markiert eine Zeitenwende in der Geschichte unseres Kontinents.\n",
    "Mit dem Überfall auf die Ukraine hat der russische Präsident Putin kaltblütig einen Angriffskrieg\n",
    "vom Zaun gebrochen – aus einem einzigen Grund: Die Freiheit der Ukrainerinnen und Ukrainer stellt\n",
    "sein eigenes Unterdrückungsregime infrage. Das ist menschenverachtend.\n",
    "Das ist völkerrechtswidrig. Das ist durch nichts und niemanden zu rechtfertigen.\"\"\"\n",
    "\n",
    "words = ____.replace('\\n', ' ').split(\" \")\n",
    "tokens = ____(words)\n",
    "\n",
    "____ len(tokens) > 30:\n",
    "    count = ____(words)\n",
    "____:\n",
    "    count = len(tokens)"
   ]
  },
  {
   "cell_type": "code",
   "execution_count": null,
   "id": "4aa3997b",
   "metadata": {},
   "outputs": [],
   "source": [
    "try:\n",
    "    assert isinstance(tokens, set)\n",
    "except:\n",
    "    print(\"tokens muss ein Set sein\")\n",
    "try:\n",
    "    assert isinstance(count, int)\n",
    "except:\n",
    "    print(\"count muss ein Integer sein\")\n",
    "try:\n",
    "    assert count == 71\n",
    "    print(\"Alles korrekt\")\n",
    "except:\n",
    "    print(\"Der Wert von count sollte 71 sein\") "
   ]
  },
  {
   "cell_type": "code",
   "execution_count": null,
   "id": "c6ab8d0f",
   "metadata": {},
   "outputs": [],
   "source": []
  }
 ],
 "metadata": {
  "kernelspec": {
   "display_name": "Python 3 (ipykernel)",
   "language": "python",
   "name": "python3"
  },
  "language_info": {
   "codemirror_mode": {
    "name": "ipython",
    "version": 3
   },
   "file_extension": ".py",
   "mimetype": "text/x-python",
   "name": "python",
   "nbconvert_exporter": "python",
   "pygments_lexer": "ipython3",
   "version": "3.9.13"
  }
 },
 "nbformat": 4,
 "nbformat_minor": 5
}
