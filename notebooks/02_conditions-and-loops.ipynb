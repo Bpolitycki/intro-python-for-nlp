{
 "cells": [
  {
   "cell_type": "markdown",
   "id": "3fe224ae",
   "metadata": {},
   "source": [
    "# Kontrollstrukturen und Schleifen\n",
    "\n",
    "## Ziel dieser Lern- und Übungseinheit\n",
    "\n",
    "Die Materialien in diesem Notebook schließen mehr oder weniger nahtlos an die vorherige Einführung an. Falls Sie bisher noch nicht mit den Grundzügen von Python vertraut sind, bearbeiten Sie bitte zunächst die Übungsaufgaben im [ersten Notebook](01_intro-jupyter-python.ipynb).\n",
    "\n",
    "Thema dieser Einheit sind sog. Kontrollstrukturen, die es erlauben Fallunterscheidungen in den Quellcode zu integrieren sowie Schleifen zur wiederholten Ver- und Bearbeitung von Daten. Am Ende sollten Sie mit folgenden Themen vertraut sein:\n",
    "\n",
    "- `if-else` Bedingungen\n",
    "- `for` und `while` Schleifen\n",
    "-  List comprehensions"
   ]
  },
  {
   "cell_type": "markdown",
   "id": "f2d34aa3",
   "metadata": {},
   "source": [
    "## Kontrollstrukturen\n",
    "\n",
    "Fallunterscheidungen sind ebenso wie Schleifen (s.u.) ein wesentliches Element einer jeden Programmiersprachen – sie erlauben es den Fluss des Programmablaufs zu strukturieren und Anweisungen nur unter bestimmten Umständen auszuführen. In Python für typische Fallunterscheidungen drei Schlüsselwörter reserviert: `if`, `else` und `elif`\n",
    "\n",
    "Schauen Sie sich die nachfolgende Zelle an und überlegen Sie vor dem Ausführen, was auf dem Bildschirm ausgegeben werden könnte."
   ]
  },
  {
   "cell_type": "code",
   "execution_count": null,
   "id": "140a07bb",
   "metadata": {},
   "outputs": [],
   "source": [
    "text = \"Der Antrag auf Erweiterung der Tagesordnung ist zulässig.\"\n",
    "\n",
    "if \"zulässig\" in text:\n",
    "    print(\"Antrag wurde angenommen.\")\n",
    "else:\n",
    "    print(\"Antrag wurde abgelehnt!\")"
   ]
  },
  {
   "cell_type": "markdown",
   "id": "d797e2b6",
   "metadata": {},
   "source": [
    "Informieren sich bei einer der folgenden externen Quellen weiter über Funktionen in Python und versuchen Sie anschließend die Übungsaufgaben zu lösen:\n",
    "\n",
    "- [Conditionals](http://python-textbook.pythonhumanities.com/01_intro/01_03-03_conditionals.html#) aus Introduction to Python for Humanists\n",
    "- [Bedingte Abfragen mit if, elif und else](https://digital-history-berlin.github.io/Python-fuer-Historiker-innen/ch02-programmablaeufe-strukturieren/02-bedingte-anweisungen.html#bedingte-abfragen-mit-if-elif-und-else) aus Python für Historiker:innen"
   ]
  },
  {
   "cell_type": "markdown",
   "id": "7e56d340",
   "metadata": {},
   "source": [
    "### Übung Kontrollstrukturen\n",
    "\n",
    "Gegeben sei der erste Abschnitt aus der berühmten Zeitwenderede des Bundeskanzlers, entnommen aus dem Protokoll des deutschen Bundestags (Sitzung vom 27. Februar 2022). Ersetzen Sie in der Rede zunächst alle Zeilenumbrüche (`\\n`) durch ein Leerzeichen und trennen den Text dann entlang der Leerzeichen. Speichern Sie die Menge der Tokens in einem `set` und erstellen Sie eine einfache Fallunterscheidung: wenn die Länge der Tokens größer als `30`\n",
    "ist, dann wird eine Variable `count` mit dem Wert der Länge von `words` initialisiert, ansonsten mit dem Wert der Länge von `tokens`. \n",
    "\n",
    "Setzen Sie zunächst die benötigten Bestandteile in die nachfolgende Zelle ein und führen Sie dann zur Überprüfung ihrer Lösung die übernächste Zelle aus."
   ]
  },
  {
   "cell_type": "code",
   "execution_count": null,
   "id": "a76d917d",
   "metadata": {},
   "outputs": [],
   "source": [
    "speech = \"\"\"Sehr geehrte Frau Präsidentin! Verehrte Kolleginnen und Kollegen! Liebe Mitbürgerinnen und Mitbürger!\n",
    "Der 24. Februar 2022 markiert eine Zeitenwende in der Geschichte unseres Kontinents.\n",
    "Mit dem Überfall auf die Ukraine hat der russische Präsident Putin kaltblütig einen Angriffskrieg\n",
    "vom Zaun gebrochen – aus einem einzigen Grund: Die Freiheit der Ukrainerinnen und Ukrainer stellt\n",
    "sein eigenes Unterdrückungsregime infrage. Das ist menschenverachtend.\n",
    "Das ist völkerrechtswidrig. Das ist durch nichts und niemanden zu rechtfertigen.\"\"\"\n",
    "\n",
    "words = ____.replace('\\n', ' ').split(\" \")\n",
    "tokens = ____(words)\n",
    "\n",
    "____ len(tokens) > 30:\n",
    "    count = ____(words)\n",
    "____:\n",
    "    count = len(tokens)"
   ]
  },
  {
   "cell_type": "code",
   "execution_count": null,
   "id": "fdaa69ae",
   "metadata": {},
   "outputs": [],
   "source": [
    "try:\n",
    "    assert isinstance(tokens, set)\n",
    "except:\n",
    "    print(\"tokens muss ein Set sein\")\n",
    "try:\n",
    "    assert isinstance(count, int)\n",
    "except:\n",
    "    print(\"count muss ein Integer sein\")\n",
    "try:\n",
    "    assert count == 71\n",
    "    print(\"Alles korrekt\")\n",
    "except:\n",
    "    print(\"Der Wert von count sollte 71 sein\") "
   ]
  },
  {
   "cell_type": "markdown",
   "id": "375bbc02",
   "metadata": {},
   "source": [
    "## Schleifen\n",
    "\n",
    "Unsere Arbeit mit Daten beschränkte sich in den Beispielen bis zu diesem Punkt auf recht einfache Fälle. Typischerweise sind Daten jedoch eher listenartig organisiert – es wäre also hilfreich bestimmte Aktionen in unseren Skripten wiederholt ausführen zu können (z.B. Verarbeitung mehrer Texte nach bestimmten Regeln). Hier kommen nun die sog. Schleifen ins Spiel. Als ein wichtiger Bestandteil einer jeden Programmiersprache erlauben Schleifen uns die wiederheolte Ver- / Bearbeitung einer Eingabemenge. In Python wird zwischen `for`- und `while`-Schleifen unterscheiden. Zunächst ein Beispiel für eine `for`-Schleife:\n",
    "\n",
    "```python\n",
    "words = ['Bundestag', 'Minister', 'Parlament']\n",
    "\n",
    "for word in words:\n",
    "    print(word)\n",
    "```\n",
    "\n",
    "Dies zugegebenermaßen recht einfache Beispiel demonstriert den grundlegenden Aufbau einer `for`-Schleife. Nach dem Schlüsselwort `for` folgt immer eine Schleifenvariable (Name frei wählbar) und anschließend folgt nach dem Schlüsselwort `in` die Menge, über die iteriert werden soll. Im Kontrast dazu ein Beispiel für eine `while`-Schleife:\n",
    "\n",
    "```python\n",
    "words = ['Bundestag', 'Minister', 'Parlament']\n",
    "i = 0\n",
    "\n",
    "while i < len(words):\n",
    "    print(words[i])\n",
    "    i += 1\n",
    "```\n",
    "\n",
    "Im Gegensatz zur `for`-Schleife wird die `while`-Schleife solange ausgeführt, wie eine bestimmte Bedingung wahr ist – im gezeigten Beispiel solange `i` kleiner ist als die Länge der Liste `words`.\n",
    "\n",
    "Weitere Informationen zu Schleifen zur Vertiefung:\n",
    "\n",
    "- [Introduction to loops](http://python-textbook.pythonhumanities.com/01_intro/01_03-02_loops.html) aus Introduction to Python for Humanists (bitte hier auch den Abschnitt zu sog. List Comprehensions lesen)\n",
    "- [Schleifen](https://digital-history-berlin.github.io/Python-fuer-Historiker-innen/ch02-programmablaeufe-strukturieren/03-schleifen.html) aus Python für Historiker:innen\n"
   ]
  },
  {
   "cell_type": "markdown",
   "id": "0a2d83c9",
   "metadata": {},
   "source": [
    "### Übung Schleifen\n",
    "\n",
    "Gegeben sei noch einmal ein Abschnitt aus der bereit erwähnten Rede von Olaf Scholz. Ihre Aufgabe besteht nun darin alle Worte herauszufinden, die mit einem Großbuchstaben beginnen, aber nicht am Anfang eines Satzes stehen herauszufinden. Der an Leerzeichen aufgetrennte Text wird dafür der Variable `speech_two_splitted` zugewiesen. Fügen Sie die passenden Worte einer Liste `words_uppercase` hinzu.\n",
    "\n",
    "Relevante Abschnitte aus der Python-Dokumentation:\n",
    "\n",
    "- [isupper()](https://docs.python.org/3.9/library/stdtypes.html?highlight=isupper#str.isupper)\n",
    "- [enumerate()](https://docs.python.org/3.9/library/functions.html?highlight=enumerate#enumerate)\n",
    "\n",
    "Siehe zudem:\n",
    "\n",
    "- [Python enumerate()](https://realpython.com/python-enumerate/) in RealPython\n",
    "\n",
    "Vervollständigen Sie das Skript in der nächsten Zelle und führen Sie zur Überprüfung die übernächste Zelle aus."
   ]
  },
  {
   "cell_type": "code",
   "execution_count": null,
   "id": "2a81140f",
   "metadata": {},
   "outputs": [],
   "source": [
    "speech_two = \"Wir erleben eine Zeitenwende. Und das bedeutet: Die Welt danach ist nicht mehr dieselbe wie die Welt davor. Im Kern geht es um die Frage, ob Macht das Recht brechen darf, ob wir es Putin gestatten, die Uhren zurückzudrehen in die Zeit der Großmächte des 19. Jahrhunderts, oder ob wir die Kraft aufbringen, Kriegstreibern wie Putin Grenzen zu setzen.\"\n",
    "speech_two_splitted = speech_two.split(\" \")\n",
    "words_uppercase = []\n",
    "\n",
    "# Iteration über die nach Leerzeichen getrennte Rede inklusive Nummerierung mit enumerate()\n",
    "for index, word in enumerate(____):\n",
    "    if index > 0:\n",
    "        previous_word = speech_two_splitted[index - 1]\n",
    "        # Prüfen, ob das Wort mit einem Großbuchstaben beginnt\n",
    "        if word[0].____() and not ____.endswith('.') and not ____.endswith(':'):\n",
    "            words_uppercase.append(____)"
   ]
  },
  {
   "cell_type": "code",
   "execution_count": 46,
   "id": "7dea7679",
   "metadata": {},
   "outputs": [
    {
     "name": "stdout",
     "output_type": "stream",
     "text": [
      "Alles korrekt\n"
     ]
    }
   ],
   "source": [
    "try:\n",
    "    assert len(words_uppercase) == 15\n",
    "    print(\"Alles korrekt!\")\n",
    "except:\n",
    "    print(\"Hups, hier ist wohl was schief gelaufen...\")"
   ]
  },
  {
   "cell_type": "markdown",
   "id": "1637ca85",
   "metadata": {},
   "source": [
    "**Zusatzaufgabe Fibonacci-Funktion**\n",
    "\n",
    "Schreiben Sie eine Funktion `fib_list`, die die [Fibonacci-Zahlen](https://www.mathsisfun.com/numbers/fibonacci-sequence.html) als eine Liste ausgibt. Die ausgegebene Anzahl soll über einen Parameter der Funktion steuerbar sein."
   ]
  },
  {
   "cell_type": "code",
   "execution_count": null,
   "id": "bc9395a9",
   "metadata": {},
   "outputs": [],
   "source": [
    "def fib_list(number_of_values):\n",
    "    \n",
    "    def fib_of(n):\n",
    "        if n in {0,1}: # Grundannahme\n",
    "            return n \n",
    "        return fib_of(____) + fib_of(____) # Tatsächliche Berechnung\n",
    "    \n",
    "    return [fib_of(i) for i in range(____)] # Erzegung der Liste mit einer list comprehension\n"
   ]
  },
  {
   "cell_type": "code",
   "execution_count": null,
   "id": "811fb768",
   "metadata": {},
   "outputs": [],
   "source": [
    "fibs = fib_list(10)\n",
    "try:\n",
    "    assert len(fib_list) == 10\n",
    "    print(\"Alles korrekt!\")\n",
    "except:\n",
    "    print(\"Hups, hier ist wohl was schief gelaufen...\")"
   ]
  }
 ],
 "metadata": {
  "kernelspec": {
   "display_name": "Python 3 (ipykernel)",
   "language": "python",
   "name": "python3"
  },
  "language_info": {
   "codemirror_mode": {
    "name": "ipython",
    "version": 3
   },
   "file_extension": ".py",
   "mimetype": "text/x-python",
   "name": "python",
   "nbconvert_exporter": "python",
   "pygments_lexer": "ipython3",
   "version": "3.9.13"
  }
 },
 "nbformat": 4,
 "nbformat_minor": 5
}
