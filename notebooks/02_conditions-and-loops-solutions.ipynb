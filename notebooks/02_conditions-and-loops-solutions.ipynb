{
 "cells": [
  {
   "attachments": {},
   "cell_type": "markdown",
   "id": "3fe224ae",
   "metadata": {},
   "source": [
    "# Kontrollstrukturen und Schleifen (Musterlösungen)\n"
   ]
  },
  {
   "cell_type": "markdown",
   "id": "7e56d340",
   "metadata": {},
   "source": [
    "### Übung Kontrollstrukturen\n",
    "\n",
    "Gegeben sei der erste Abschnitt aus der berühmten Zeitwenderede des Bundeskanzlers, entnommen aus dem Protokoll des deutschen Bundestags (Sitzung vom 27. Februar 2022). Ersetzen Sie in der Rede zunächst alle Zeilenumbrüche (`\\n`) durch ein Leerzeichen und trennen den Text dann entlang der Leerzeichen. Speichern Sie die Menge der Tokens in einem `set` und erstellen Sie eine einfache Fallunterscheidung: wenn die Länge der Tokens größer als `30`\n",
    "ist, dann wird eine Variable `count` mit dem Wert der Länge von `words` initialisiert, ansonsten mit dem Wert der Länge von `tokens`. \n",
    "\n",
    "Setzen Sie zunächst die benötigten Bestandteile in die nachfolgende Zelle ein und führen Sie dann zur Überprüfung ihrer Lösung die übernächste Zelle aus."
   ]
  },
  {
   "cell_type": "code",
   "execution_count": 1,
   "id": "a76d917d",
   "metadata": {},
   "outputs": [],
   "source": [
    "speech = \"\"\"Sehr geehrte Frau Präsidentin! Verehrte Kolleginnen und Kollegen! Liebe Mitbürgerinnen und Mitbürger!\n",
    "Der 24. Februar 2022 markiert eine Zeitenwende in der Geschichte unseres Kontinents.\n",
    "Mit dem Überfall auf die Ukraine hat der russische Präsident Putin kaltblütig einen Angriffskrieg\n",
    "vom Zaun gebrochen – aus einem einzigen Grund: Die Freiheit der Ukrainerinnen und Ukrainer stellt\n",
    "sein eigenes Unterdrückungsregime infrage. Das ist menschenverachtend.\n",
    "Das ist völkerrechtswidrig. Das ist durch nichts und niemanden zu rechtfertigen.\"\"\"\n",
    "\n",
    "words = speech.replace('\\n', ' ').split(\" \")\n",
    "tokens = set(words)\n",
    "\n",
    "if len(tokens) > 30:\n",
    "    count = len(words)\n",
    "else:\n",
    "    count = len(tokens)"
   ]
  },
  {
   "cell_type": "code",
   "execution_count": 2,
   "id": "fdaa69ae",
   "metadata": {},
   "outputs": [
    {
     "name": "stdout",
     "output_type": "stream",
     "text": [
      "Alles korrekt\n"
     ]
    }
   ],
   "source": [
    "try:\n",
    "    assert isinstance(tokens, set)\n",
    "except:\n",
    "    print(\"tokens muss ein Set sein\")\n",
    "try:\n",
    "    assert isinstance(count, int)\n",
    "except:\n",
    "    print(\"count muss ein Integer sein\")\n",
    "try:\n",
    "    assert count == 71\n",
    "    print(\"Alles korrekt\")\n",
    "except:\n",
    "    print(\"Der Wert von count sollte 71 sein\") "
   ]
  },
  {
   "cell_type": "markdown",
   "id": "0a2d83c9",
   "metadata": {},
   "source": [
    "### Übung Schleifen\n",
    "\n",
    "Gegeben sei noch einmal ein Abschnitt aus der bereit erwähnten Rede von Olaf Scholz. Ihre Aufgabe besteht nun darin alle Worte herauszufinden, die mit einem Großbuchstaben beginnen, aber nicht am Anfang eines Satzes stehen herauszufinden. Der an Leerzeichen aufgetrennte Text wird dafür der Variable `speech_two_splitted` zugewiesen. Fügen Sie die passenden Worte einer Liste `words_uppercase` hinzu.\n",
    "\n",
    "Relevante Abschnitte aus der Python-Dokumentation:\n",
    "\n",
    "- [isupper()](https://docs.python.org/3.9/library/stdtypes.html?highlight=isupper#str.isupper)\n",
    "- [enumerate()](https://docs.python.org/3.9/library/functions.html?highlight=enumerate#enumerate)\n",
    "\n",
    "Siehe zudem:\n",
    "\n",
    "- [Python enumerate()](https://realpython.com/python-enumerate/) in RealPython\n",
    "\n",
    "Vervollständigen Sie das Skript in der nächsten Zelle und führen Sie zur Überprüfung die übernächste Zelle aus."
   ]
  },
  {
   "cell_type": "code",
   "execution_count": 3,
   "id": "2a81140f",
   "metadata": {},
   "outputs": [],
   "source": [
    "speech_two = \"Wir erleben eine Zeitenwende. Und das bedeutet: Die Welt danach ist nicht mehr dieselbe wie die Welt davor. Im Kern geht es um die Frage, ob Macht das Recht brechen darf, ob wir es Putin gestatten, die Uhren zurückzudrehen in die Zeit der Großmächte des 19. Jahrhunderts, oder ob wir die Kraft aufbringen, Kriegstreibern wie Putin Grenzen zu setzen.\"\n",
    "speech_two_splitted = speech_two.split(\" \")\n",
    "words_uppercase = []\n",
    "\n",
    "# Iteration über die nach Leerzeichen getrennte Rede inklusive Nummerierung mit enumerate()\n",
    "for index, word in enumerate(speech_two_splitted):\n",
    "    if index > 0:\n",
    "        previous_word = speech_two_splitted[index - 1]\n",
    "        # Prüfen, ob das Wort mit einem Großbuchstaben beginnt\n",
    "        if word[0].isupper() and not previous_word.endswith('.') and not previous_word.endswith(':'):\n",
    "            words_uppercase.append(word)"
   ]
  },
  {
   "cell_type": "code",
   "execution_count": 4,
   "id": "7dea7679",
   "metadata": {},
   "outputs": [
    {
     "name": "stdout",
     "output_type": "stream",
     "text": [
      "Alles korrekt!\n"
     ]
    }
   ],
   "source": [
    "try:\n",
    "    assert len(words_uppercase) == 15\n",
    "    print(\"Alles korrekt!\")\n",
    "except:\n",
    "    print(\"Hups, hier ist wohl was schief gelaufen...\")"
   ]
  },
  {
   "cell_type": "markdown",
   "id": "1637ca85",
   "metadata": {},
   "source": [
    "**Zusatzaufgabe Fibonacci-Funktion**\n",
    "\n",
    "Schreiben Sie eine Funktion `fib_list`, die die [Fibonacci-Zahlen](https://www.mathsisfun.com/numbers/fibonacci-sequence.html) als eine Liste ausgibt. Die ausgegebene Anzahl soll über einen Parameter der Funktion steuerbar sein."
   ]
  },
  {
   "cell_type": "code",
   "execution_count": 15,
   "id": "bc9395a9",
   "metadata": {},
   "outputs": [],
   "source": [
    "def fib_list(number_of_values):\n",
    "    \n",
    "    def fib_of(n):\n",
    "        if n in {0,1}: # Grundannahme\n",
    "            return n \n",
    "        return fib_of(n - 1) + fib_of(n - 2) # Tatsächliche Berechnung\n",
    "    \n",
    "    return [fib_of(i) for i in range(number_of_values)] # Erzegung der Liste mit einer list comprehension\n"
   ]
  },
  {
   "cell_type": "code",
   "execution_count": 18,
   "id": "811fb768",
   "metadata": {},
   "outputs": [
    {
     "name": "stdout",
     "output_type": "stream",
     "text": [
      "Alles korrekt!\n"
     ]
    }
   ],
   "source": [
    "fibs = fib_list(10)\n",
    "try:\n",
    "    assert len(fibs) == 10\n",
    "    print(\"Alles korrekt!\")\n",
    "except:\n",
    "    print(\"Hups, hier ist wohl was schief gelaufen...\")"
   ]
  },
  {
   "cell_type": "code",
   "execution_count": null,
   "id": "86e46ae6",
   "metadata": {},
   "outputs": [],
   "source": []
  }
 ],
 "metadata": {
  "kernelspec": {
   "display_name": "Python 3 (ipykernel)",
   "language": "python",
   "name": "python3"
  },
  "language_info": {
   "codemirror_mode": {
    "name": "ipython",
    "version": 3
   },
   "file_extension": ".py",
   "mimetype": "text/x-python",
   "name": "python",
   "nbconvert_exporter": "python",
   "pygments_lexer": "ipython3",
   "version": "3.9.13"
  }
 },
 "nbformat": 4,
 "nbformat_minor": 5
}
