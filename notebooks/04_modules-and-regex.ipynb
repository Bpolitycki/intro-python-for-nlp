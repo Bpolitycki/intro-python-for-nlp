{
 "cells": [
  {
   "cell_type": "markdown",
   "metadata": {},
   "source": [
    "# Modularisierung und Textmanipulation mit regulären Ausdrücken\n",
    "\n",
    "## Ziel dieser Lern- und Übungseinheit\n",
    "\n",
    "Die Materialien in diesem Notebook bauen auf den vorherigen Einheiten. Thema dieser Einheit sind Möglichkeiten der Modularisierung in Python im Verbund mit der Nutzung externer Bibliotheken sowie die Manipulation von Textinhalten mithilfe regulärer Ausdrücke. Am Ende sollten Sie mit folgenden Themen vertraut sein:\n",
    "\n",
    "- Module einbinden\n",
    "- Module installieren\n",
    "- Grundlegende Syntax eines regulären Ausdrucks\n",
    "- Verwendung von regulären Ausdrücken in Python"
   ]
  },
  {
   "cell_type": "markdown",
   "metadata": {},
   "source": [
    "## Modularisierung\n",
    "\n",
    "Die Arbeit in den bisherigen Übungseinheiten beschränkte sich auf den Code, der in den jeweiligen Notebooks erstellt wurde – solange unsere Programme recht übersichtlich gestaltet sind und wir jegliche Logik von Grund auf selbst implementieren, ist das ein Ansatz, der gut funktioniert. In der tatsächlichen Anwendung kommen wir hier allerdings recht schnell an unsere Grenzen. Die Lösung dafür heißt Modularisierung.\n",
    "\n",
    "Modularisierung ist ein zentrales Konzept in der Programmierung, welches es ermöglicht, komplexe Skripte in kleinere, leichter verständliche Module aufzuteilen. Ein Modul in Python ist im Wesentlichen eine Sammlung von Funktionen, Klassen und Variablen, die in einer separaten Datei gespeichert sind und von anderen Python-Programmen importiert werden können. Diese Dateien fungieren als Container für verwandte Funktionalitäten und ermöglichen es den Code zu organisieren und zu strukturieren.\n",
    "\n",
    "Python bietet auch eine umfangreiche Sammlung von Standardmodulen, die in der Python Standard Library enthalten sind, und die für verschiedene Aufgaben wie Dateiverwaltung, Datenbankzugriff, mathematische Berechnungen und vieles mehr verwendet werden können. Darüber hinaus gibt es eine Vielzahl von Drittanbieter-Modulen, die von der Python-Community entwickelt wurden und in Python-Projekten verwendet werden können, um zusätzliche Funktionalitäten hinzuzufügen.\n",
    "\n",
    "Die Verwendung von Modulen in Python ist einfach. Um ein Modul zu verwenden, muss es zuerst importiert werden. Es gibt verschiedene Möglichkeiten, ein Modul zu importieren, einschließlich des Importierens des gesamten Moduls oder nur bestimmter Teile des Moduls. Einmal importiert, können die in einem Modul definierten Funktionen, Klassen oder Variablen wie jede andere Python-Funktion, Klasse oder Variable verwendet werden. Der Import passiert immer nach folgendem Prinzip:\n",
    "\n",
    "```python\n",
    "# Import eines ganzen Moduls\n",
    "import Modulname\n",
    "# Import von Teilen des Moduls\n",
    "from Modulname import xyz\n",
    "# Importe lassen sich zudem einem Alias zuordnen\n",
    "import Modulname as MeinAlias\n",
    "```\n",
    "\n",
    "Neben den Modulen der Standardbibliothek beinhaltet die hier verwendete Python-Distribution bereits von Haus eine Reihe [zusätzlicher Pakete](https://docs.anaconda.com/anaconda/packages/pkg-docs/). Weitere Pakete lassen sich mit dem integrierten Paketmanager `pip installieren`:\n",
    "\n",
    "```python\n",
    "# auf der Kommandozeile\n",
    "pip install Paketname\n",
    "# im Jupyter Notebook\n",
    "!pip install Paketname\n",
    "```\n",
    "\n",
    "Mehr zur Modularisierung in Python: [Libraries in Python](http://python-textbook.pythonhumanities.com/01_intro/01_04-04_libraries.html) aus *Introduction to Python for Humanists*"
   ]
  },
  {
   "cell_type": "markdown",
   "metadata": {},
   "source": [
    "Lassen Sie sich die vorinstallierten Pakete (sofern vorhanden) anzeigen, indem Sie die nachfolgende Zelle ausführen."
   ]
  },
  {
   "cell_type": "code",
   "execution_count": null,
   "metadata": {},
   "outputs": [],
   "source": [
    "# Ausgabe installierter Pakete\n",
    "!pip list"
   ]
  },
  {
   "attachments": {},
   "cell_type": "markdown",
   "metadata": {},
   "source": [
    "## Textmanipulation mit regulären Ausdrücken\n",
    "\n",
    "Reguläre Ausdrücke oder RegEx (kurz für Regular Expressions) sind ein leistungsstarkes Werkzeug in der Programmierung und Textverarbeitung, das es ermöglicht, komplexe Muster in Texten zu suchen, zu analysieren und zu manipulieren. Als (Mit-)Erfinder gilt der Mathematiker [Stephen Kleene](https://de.wikipedia.org/wiki/Regulärer_Ausdruck).  Sie sind ein Standardkonzept in vielen Programmiersprachen, einschließlich Python, und bieten eine flexible und effiziente Möglichkeit, Texte nach bestimmten Mustern zu durchsuchen und darauf basierende Aktionen auszuführen.\n",
    "\n",
    "### Reguläre Ausdrücke sind fantastisch weil...\n",
    "\n",
    "1. sie quasi universell einsetzbar sind\n",
    "2. sie komplexe Operationen in kurzer Zeit ausführen\n",
    "3. sich komplexe Anweisungen auf wenig Raum ausdrücken lassen\n",
    "\n",
    "### Reguläre sind furchtbar weil...\n",
    "\n",
    "1. sich komplexe Anweisungen auf wenig Raum ausdrücken lassen\n",
    "2. es Domänenwissen braucht, um nicht in eine Reihe von Stolperfallen zu laufen\n",
    "3. sie nicht sehr einsteigerfreundlich sind\n",
    "\n",
    "### Reguläre Ausdrücke und Python\n",
    "\n",
    "Reguläre Ausdrücke bestehen aus speziellen Zeichen in einer bestimmten Syntax, die es ermöglichen, Muster von Zeichen in Texten zu definieren. Diese Muster können einfache Zeichen wie Buchstaben und Zahlen, aber auch komplexere Muster wie Wiederholungen, Alternativen, Gruppierungen und mehr umfassen. In Python werden reguläre Ausdrücke durch das Modul `re` bereitgestellt, das in der [Python Standard Library](https://docs.python.org/3/library/re.html) enthalten ist. Das `re`-Modul bietet verschiedene Funktionen, mit denen reguläre Ausdrücke erstellt, auf Texte angewendet und Muster in den Texten gefunden werden können.\n",
    "\n",
    "Nehmen wir einmal, dass wir aus dem Text `Der Apfel ist rot` das Wort `rot` extrahieren möchten, dann könnten wir dies ohne regulären Ausdruck folgendermaßen erledigen:\n",
    "\n",
    "```python\n",
    "text = \"Der Apfel ist rot\"\n",
    "rot_index = text.find(\"rot\")\n",
    "rot = text[rot_index:rot_index+3]\n",
    "```\n",
    "\n",
    "Dieses Programm funktioniert im Wesentlich so:\n",
    "\n",
    "1. Wir suchen zunächst den Index, an dem das Wort `rot` im Text beginnt\n",
    "2. Anschließend extrahieren wir `rot` aus dem Text per sog. [Slicing](https://www.freecodecamp.org/news/python-slicing-how-to-slice-an-array/)\n",
    "\n",
    "Dieses Vorgehen gerät schnell an seine Grenzen, wenn wir unseren Satz bspw. wie folgt erweitern: `Der Apfel ist rot, die Birne ist nicht rot`. Möchten wir nun wieder alle Vorkommen von `rot` mit dieser Methode extrahieren, müssen wir den Text in mehrere Teile unterteilen und mit einer Schleife über diese Einzelteile interieren. Mit einem regulären Ausdruck können wir das hingegen recht einfach erledigen:\n",
    "\n",
    "```python\n",
    "import re\n",
    "re.findall('rot', text)\n",
    "```\n",
    "\n",
    "1. Zunächst wird hier das Modul `re` importiert\n",
    "2. Anschließend wird hieraus die Methode `findall` aufgerufen\n",
    "3. Diese bekommt als ersten Parameter den gesuchten Text (als regulären Ausdruck) und als zweiten Parameter den Text selbst übergeben\n",
    "\n",
    "Der hier verwendete reguläre Ausdruck ist denkbar einfach. Suchen wir ein konkretes Wort bzw. vielmehr eine konkrete Zeichenfolge ohne weitere Nebenbedingungen, dann entspricht diese Zeichenfolge dem regulären Ausdrück. Anspruchsvollere reguläre Ausdrücke nutzen u.a. folgende Zeichenmuster, um bestimmte Bedingungen zur formulieren:\n",
    "\n",
    "1. `\\w` – alphanumerische Zeichen, dies bedeutet alles von a-z, A-Z sowie 0-9\n",
    "2. `\\d` – Zahlen 0–9\n",
    "3. `\\D` – alles außer Zahlen\n",
    "4. `\\s` – Leerzeichen\n",
    "5. `+` - 1 oder mehr Zeichen\n",
    "6. `?` - 0 oder 1 Zeichen\n",
    "7. `*`- 0 oder beliebig viele Zeichen\n",
    "8. `.` - beliebiges Zeichen\n",
    "9. `[ ]` - Set von Zeichen; `[amk]` passt entweder auf `a`, `m` oder `k`, aber nicht auf `amk` (das wäre `[amk]+`)\n",
    "10. `( )` - gruppiert eine Sequenz von Zeichen\n",
    "11. `|` - oder\n",
    "12. `^` - Anfang der Zeichensequenz\n",
    "13. `$` - Ende der Zeichensequenz\n",
    "\n",
    "### Ein reales Beispiel\n",
    "\n",
    "In den vorherigen Übungseinheiten haben wir immer wieder einen Ausschnitt aus einer Rede des Bundeskanzlers als Beispiel verwendet. Diese sei auch hier noch einmal gegeben. Auf diese wird nun ein regulärer Ausdruck angewendet. Überlegen Sie zunächst, was das Ergebnis der Ausführung sein könnte und führen Sie dann die nächste Zelle aus.\n"
   ]
  },
  {
   "cell_type": "code",
   "execution_count": null,
   "metadata": {},
   "outputs": [],
   "source": [
    "import re\n",
    "speech = \"Wir erleben eine Zeitenwende. Und das bedeutet: Die Welt danach ist nicht mehr dieselbe wie die Welt davor. Im Kern geht es um die Frage, ob Macht das Recht brechen darf, ob wir es Putin gestatten, die Uhren zurückzudrehen in die Zeit der Großmächte des 19. Jahrhunderts, oder ob wir die Kraft aufbringen, Kriegstreibern wie Putin Grenzen zu setzen.\"\n",
    "re.findall(r'\\s([A-Z][a-z]+)', speech)"
   ]
  },
  {
   "cell_type": "markdown",
   "metadata": {},
   "source": [
    "Der reguläre Ausdruck besteht hier drei Bestandteilen und sucht nach allen Worten, die mit einem Großbuchstaben beginnen:\n",
    "\n",
    "1. `\\s` - am Anfang soll zunächst ein Leerzeichen stehen\n",
    "2. `( )` - wir interessieren uns für alles was in der Gruppe steht\n",
    "3. `[A-Z][a-z]+` - unsere gesuchten Worte bestehen aus einem Großbuchstaben und mehreren Kleinbuchstaben\n",
    "\n",
    "Weiterführende Informationen zu regulären Ausdrücken:\n",
    "\n",
    "- [Understanding Regular Expressions](https://programminghistorian.org/en/lessons/understanding-regular-expressions) aus *Programming Historian*\n",
    "- [Python for Digital Humanities](https://youtu.be/PpRifN_hQp8) (Video)\n",
    "- [Reguläre Python-Ausdrücke](https://developers.google.com/edu/python/regular-expressions?hl=de) in *Google for Education*"
   ]
  },
  {
   "cell_type": "markdown",
   "metadata": {},
   "source": [
    "### Übung reguläre Ausdrücke\n",
    "\n",
    "#### Erste Aufgabe\n",
    "\n",
    "Finden Sie im bekannten Textstück alle Worte, die mit einem Kleinbuchstaben beginnen und von einem `.`, `,` oder `:` gefolgt werden."
   ]
  },
  {
   "cell_type": "code",
   "execution_count": null,
   "metadata": {},
   "outputs": [],
   "source": [
    "import re\n",
    "speech_snippet = \"Wir erleben eine Zeitenwende. Und das bedeutet: Die Welt danach ist nicht mehr dieselbe wie die Welt davor. Im Kern geht es um die Frage, ob Macht das Recht brechen darf, ob wir es Putin gestatten, die Uhren zurückzudrehen in die Zeit der Großmächte des neunzehnten Jahrhunderts, oder ob wir die Kraft aufbringen, Kriegstreibern wie Putin Grenzen zu setzen.\"\n",
    "\n",
    "matches_lowercased = re.findall(____, speech_snippet)\n",
    "print(matches_lowercased)"
   ]
  },
  {
   "cell_type": "code",
   "execution_count": null,
   "metadata": {},
   "outputs": [],
   "source": [
    "try:\n",
    "    assert isinstance(matches_lowercased, list)\n",
    "    assert len(matches_lowercased) > 0\n",
    "except AssertionError:\n",
    "    print(\"Die Variable matches_lowercased sollte eine Liste mit mehr als 0 Einträgen sein.\")\n",
    "try:\n",
    "    assert len(matches_lowercased) == 6\n",
    "    print(\"Alles korrekt!\")\n",
    "except AssertionError:\n",
    "        print(\"Die Variable matches_lowercased sollte eine Liste mit genau 6 Einträgen sein.\")"
   ]
  },
  {
   "cell_type": "markdown",
   "metadata": {},
   "source": [
    "#### Zweite Aufgabe\n",
    "\n",
    "Gegeben seien nun die mehrere Abschnitte Rede. Schreiben Sie nun einen regulären Ausdrück, welchen wir dafür verwenden können um alle Worte (Tokens) im Text identifiieren zu können. Zahlen, Weißraum und Satzzeichen sollen ignoriert werden. Achtung: Umlaute und Zeichen wie das scharfe S sind trickreich! \n",
    "\n",
    "Ergänzen Sie dazu den Code in der übernächsten Zelle und führen Sie zur Überprüfung die darauffolgende Zelle aus.\n"
   ]
  },
  {
   "cell_type": "code",
   "execution_count": 63,
   "metadata": {},
   "outputs": [],
   "source": [
    "speech_long_snippet = \"\"\"Sehr geehrte Frau Präsidentin! Verehrte Kolleginnen und Kollegen! Liebe Mitbürgerinnen und Mitbürger! Der 24. Februar 2022 markiert eine Zeitenwende in der Geschichte unseres Kontinents. Mit dem Überfall auf die Ukraine hat der russische Präsident Putin kaltblütig einen Angriffskrieg vom Zaun gebrochen – aus einem einzigen Grund: Die Freiheit der Ukrainerinnen und Ukrainer stellt sein eigenes Unterdrückungsregime infrage. Das ist menschenverachtend. Das ist völkerrechtswidrig. Das ist durch nichts und niemanden zu rechtfertigen.\n",
    "Die schrecklichen Bilder aus Kiew, Charkiw, Odessa und Mariupol zeigen die ganze Skrupellosigkeit Putins. Die himmelschreiende Ungerechtigkeit, der Schmerz der Ukrainerinnen und Ukrainer, sie gehen uns allen sehr nahe.\n",
    "Ich weiß genau, welche Fragen sich die Bürgerinnen und Bürger in diesen Tagen abends am Küchentisch stellen, welche Sorgen sie umtreiben angesichts der furchtbaren Nachrichten aus dem Krieg. Viele von uns haben noch die Erzählungen unserer Eltern oder Großeltern im Ohr vom Krieg, und für die Jüngeren ist es kaum fassbar: Krieg in Europa. Viele von ihnen verleihen ihrem Entsetzen Ausdruck – überall im Land, auch hier in Berlin.\n",
    "Wir erleben eine Zeitenwende. Und das bedeutet: Die Welt danach ist nicht mehr dieselbe wie die Welt davor. Im Kern geht es um die Frage, ob Macht das Recht brechen darf, ob wir es Putin gestatten, die Uhren zurückzudrehen in die Zeit der Großmächte des 19. Jahrhunderts, oder ob wir die Kraft aufbringen, Kriegstreibern wie Putin Grenzen zu setzen.\n",
    "Das setzt eigene Stärke voraus.\n",
    "a, wir wollen und wir werden unsere Freiheit, unsere Demokratie und unseren Wohlstand sichern. Ich bin Ihnen, Frau Präsidentin, sehr dankbar, dass ich die Vorstellungen der Bundesregierung dazu heute in dieser Sondersitzung mit Ihnen teilen kann. Auch den Vorsitzenden aller demokratischen Fraktionen dieses Hauses danke ich dafür, dass sie diese Sitzung unterstützt haben.\"\"\""
   ]
  },
  {
   "cell_type": "code",
   "execution_count": null,
   "metadata": {},
   "outputs": [],
   "source": [
    "# Falls noch nicht geschehen das `re`-Modul zunächst importieren \n",
    "import re\n",
    "tokens = re.findall(____, speech_long_snippet)\n",
    "print(len(tokens))"
   ]
  },
  {
   "cell_type": "code",
   "execution_count": null,
   "metadata": {},
   "outputs": [],
   "source": [
    "try:\n",
    "    assert isinstance(tokens, list)\n",
    "    assert len(tokens) > 0\n",
    "except AssertionError:\n",
    "    print(\"Die Variable tokens sollte eine Liste mit mehr als 0 Einträgen sein.\")\n",
    "try:\n",
    "    assert len(tokens) == 281\n",
    "    print(\"Alles korrekt!\")\n",
    "except AssertionError:\n",
    "        print(\"Die Variable tokens sollte eine Liste mit genau 281 Einträgen sein.\")"
   ]
  },
  {
   "cell_type": "code",
   "execution_count": null,
   "metadata": {},
   "outputs": [],
   "source": []
  }
 ],
 "metadata": {
  "kernelspec": {
   "display_name": "Python 3 (ipykernel)",
   "language": "python",
   "name": "python3"
  },
  "language_info": {
   "codemirror_mode": {
    "name": "ipython",
    "version": 3
   },
   "file_extension": ".py",
   "mimetype": "text/x-python",
   "name": "python",
   "nbconvert_exporter": "python",
   "pygments_lexer": "ipython3",
   "version": "3.9.13"
  }
 },
 "nbformat": 4,
 "nbformat_minor": 2
}
